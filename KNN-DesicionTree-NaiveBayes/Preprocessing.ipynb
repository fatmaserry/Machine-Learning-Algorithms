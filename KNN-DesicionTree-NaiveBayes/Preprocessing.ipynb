{
 "cells": [
  {
   "cell_type": "code",
   "execution_count": null,
   "metadata": {
    "executionInfo": {
     "elapsed": 5,
     "status": "ok",
     "timestamp": 1733242842874,
     "user": {
      "displayName": "Fatma Elzahraa Ashraf",
      "userId": "07218714199006379308"
     },
     "user_tz": -120
    },
    "id": "hPWwlw4Hpvgc"
   },
   "outputs": [],
   "source": [
    "import pandas as pd\n",
    "import numpy as np\n",
    "from sklearn.preprocessing import StandardScaler, MinMaxScaler, LabelEncoder\n",
    "from sklearn.model_selection import train_test_split\n",
    "from sklearn.metrics import accuracy_score, precision_score, recall_score"
   ]
  },
  {
   "cell_type": "code",
   "execution_count": 25,
   "metadata": {
    "executionInfo": {
     "elapsed": 2325,
     "status": "ok",
     "timestamp": 1733242960609,
     "user": {
      "displayName": "Fatma Elzahraa Ashraf",
      "userId": "07218714199006379308"
     },
     "user_tz": -120
    },
    "id": "NHi3uYqpp4IK"
   },
   "outputs": [],
   "source": [
    "# load the dataset\n",
    "df = pd.read_csv(\"/content/drive/MyDrive/Colab Notebooks/Assignment_2/weather_forecast_data.csv\")"
   ]
  },
  {
   "cell_type": "code",
   "execution_count": null,
   "metadata": {
    "colab": {
     "base_uri": "https://localhost:8080/"
    },
    "executionInfo": {
     "elapsed": 4,
     "status": "ok",
     "timestamp": 1733242873437,
     "user": {
      "displayName": "Fatma Elzahraa Ashraf",
      "userId": "07218714199006379308"
     },
     "user_tz": -120
    },
    "id": "rJfBBp0eoodS",
    "outputId": "b6c56e33-11cf-4611-de1f-47bda27be217"
   },
   "outputs": [],
   "source": [
    "# Task 1: Preprocessing\n",
    "# 1. Check for missing values\n",
    "def checkMissing(df):\n",
    "    print(\"Missing values per column:\")\n",
    "    print(df.isnull().sum())"
   ]
  },
  {
   "cell_type": "code",
   "execution_count": null,
   "metadata": {
    "colab": {
     "base_uri": "https://localhost:8080/"
    },
    "executionInfo": {
     "elapsed": 2799,
     "status": "ok",
     "timestamp": 1733233116862,
     "user": {
      "displayName": "Fatma Elzahraa Ashraf",
      "userId": "07218714199006379308"
     },
     "user_tz": -120
    },
    "id": "DAMUFq8DqE6Z",
    "outputId": "877926e3-7048-4311-bd19-6115c46081d0"
   },
   "outputs": [],
   "source": [
    "# 2. Handle missing values by two techniques\n",
    "def handle_missing(df, strategy):\n",
    "    if strategy == \"drop\":\n",
    "        return df.dropna()\n",
    "    elif strategy == \"replace\":\n",
    "        df_copy = df.copy()\n",
    "        # Fill numeric columns with mean\n",
    "        for col in df_copy.select_dtypes(include=\"number\").columns:\n",
    "            df_copy[col] = df_copy[col].fillna(df_copy[col].mean())\n",
    "        # Fill categorical columns with mode\n",
    "        for col in df_copy.select_dtypes(include=\"object\").columns:\n",
    "            df_copy[col] = df_copy[col].fillna(df_copy[col].mode()[0])\n",
    "        return df_copy\n",
    "    else:\n",
    "        raise ValueError(\"Invalid missing value strategy\")"
   ]
  },
  {
   "cell_type": "code",
   "execution_count": null,
   "metadata": {},
   "outputs": [],
   "source": [
    "# 3. Preprocessing\n",
    "def preprocess(df, scaling):\n",
    "    X = df.drop(columns=[\"Rain\"])\n",
    "    y = df[\"Rain\"]\n",
    "\n",
    "    # Encode target\n",
    "    y = LabelEncoder().fit_transform(y)\n",
    "\n",
    "    X_train, X_test, y_train, y_test = train_test_split(X, y, test_size=0.2, random_state=42)\n",
    "\n",
    "    # Scale numeric features\n",
    "    scaler = MinMaxScaler() if scaling == \"min-max\" else StandardScaler()\n",
    "    toscale = X_train.select_dtypes(include=\"number\").columns\n",
    "    X_train[toscale] = scaler.fit_transform(X_train[toscale])\n",
    "    X_test[toscale] = scaler.transform(X_test[toscale])\n",
    "\n",
    "    return X_train, X_test, y_train, y_test"
   ]
  },
  {
   "cell_type": "code",
   "execution_count": null,
   "metadata": {},
   "outputs": [],
   "source": [
    "# 4. Evaluate model\n",
    "def evaluate_model(model, X_test, y_test):\n",
    "    y_pred = model.predict(X_test)\n",
    "    accuracy = accuracy_score(y_test, y_pred)\n",
    "    precision = precision_score(y_test, y_pred)\n",
    "    recall = recall_score(y_test, y_pred)\n",
    "    return accuracy, precision, recall"
   ]
  }
 ],
 "metadata": {
  "colab": {
   "authorship_tag": "ABX9TyOsZMCcJd5cLyyhxNIWCzw1",
   "mount_file_id": "1DrI2nrFZcWsiSBF8ykapXfMuX_QArvvJ",
   "provenance": []
  },
  "kernelspec": {
   "display_name": "Python 3",
   "name": "python3"
  },
  "language_info": {
   "name": "python"
  }
 },
 "nbformat": 4,
 "nbformat_minor": 0
}
