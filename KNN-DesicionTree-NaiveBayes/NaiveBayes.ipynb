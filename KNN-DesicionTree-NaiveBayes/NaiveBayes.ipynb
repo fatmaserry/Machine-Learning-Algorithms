{
  "nbformat": 4,
  "nbformat_minor": 0,
  "metadata": {
    "colab": {
      "provenance": []
    },
    "kernelspec": {
      "name": "python3",
      "display_name": "Python 3"
    },
    "language_info": {
      "name": "python"
    }
  },
  "cells": [
    {
      "cell_type": "code",
      "execution_count": 1,
      "metadata": {
        "id": "xTragf8nQrLo"
      },
      "outputs": [],
      "source": [
        "import pandas as pd\n",
        "import numpy as np\n",
        "from sklearn.preprocessing import StandardScaler, MinMaxScaler, LabelEncoder\n",
        "from sklearn.model_selection import train_test_split\n",
        "from sklearn.metrics import accuracy_score, precision_score, recall_score\n"
      ]
    },
    {
      "cell_type": "code",
      "source": [
        "from google.colab import drive\n",
        "drive.mount('/content/drive')\n",
        "\n"
      ],
      "metadata": {
        "colab": {
          "base_uri": "https://localhost:8080/"
        },
        "id": "A4BSdNGMUIw6",
        "outputId": "ca600b7b-35ad-45cf-f6e1-ac4bc20f7c88"
      },
      "execution_count": 8,
      "outputs": [
        {
          "output_type": "stream",
          "name": "stdout",
          "text": [
            "Mounted at /content/drive\n"
          ]
        }
      ]
    },
    {
      "cell_type": "code",
      "source": [
        "# load the dataset\n",
        "df = pd.read_csv(\"/content/drive/MyDrive/Machine_Asignment2_dataset/weather_forecast_data.csv\")\n",
        ""
      ],
      "metadata": {
        "collapsed": true,
        "id": "8Yb_PurhRPrO"
      },
      "execution_count": 11,
      "outputs": []
    },
    {
      "cell_type": "code",
      "source": [
        "# Task 1: Preprocessing\n",
        "# 1. Check for missing values\n",
        "def checkMissing(df):\n",
        "    print(\"Missing values per column:\")\n",
        "    print(df.isnull().sum())"
      ],
      "metadata": {
        "id": "G4EkI_XQRQjF"
      },
      "execution_count": 12,
      "outputs": []
    },
    {
      "cell_type": "code",
      "source": [
        "# 2. Handle missing values by two techniques\n",
        "def handle_missing(df, strategy):\n",
        "    if strategy == \"drop\":\n",
        "        return df.dropna()\n",
        "    elif strategy == \"replace\":\n",
        "        df_copy = df.copy()\n",
        "        # Fill numeric columns with mean\n",
        "        for col in df_copy.select_dtypes(include=\"number\").columns:\n",
        "            df_copy[col] = df_copy[col].fillna(df_copy[col].mean())\n",
        "        # Fill categorical columns with mode\n",
        "        for col in df_copy.select_dtypes(include=\"object\").columns:\n",
        "            df_copy[col] = df_copy[col].fillna(df_copy[col].mode()[0])\n",
        "        return df_copy\n",
        "    else:\n",
        "        raise ValueError(\"Invalid missing value strategy\")"
      ],
      "metadata": {
        "id": "mj6O2w0KRSfa"
      },
      "execution_count": 13,
      "outputs": []
    },
    {
      "cell_type": "code",
      "source": [
        "# 3. Preprocessing\n",
        "def preprocess(df, scaling):\n",
        "    X = df.drop(columns=[\"Rain\"])\n",
        "    y = df[\"Rain\"]\n",
        "\n",
        "    # Encode target\n",
        "    y = LabelEncoder().fit_transform(y)\n",
        "\n",
        "    X_train, X_test, y_train, y_test = train_test_split(X, y, test_size=0.2, random_state=42)\n",
        "\n",
        "    # Scale numeric features\n",
        "    scaler = MinMaxScaler() if scaling == \"min-max\" else StandardScaler()\n",
        "    toscale = X_train.select_dtypes(include=\"number\").columns\n",
        "    X_train[toscale] = scaler.fit_transform(X_train[toscale])\n",
        "    X_test[toscale] = scaler.transform(X_test[toscale])\n",
        "\n",
        "    return X_train, X_test, y_train, y_test"
      ],
      "metadata": {
        "id": "rlNkAhNiRVeq"
      },
      "execution_count": 14,
      "outputs": []
    },
    {
      "cell_type": "code",
      "source": [
        "# 4. Evaluate model\n",
        "def evaluate_model(model, X_test, y_test):\n",
        "    y_pred = model.predict(X_test)\n",
        "    accuracy = accuracy_score(y_test, y_pred)\n",
        "    precision = precision_score(y_test, y_pred)\n",
        "    recall = recall_score(y_test, y_pred)\n",
        "    return accuracy, precision, recall"
      ],
      "metadata": {
        "id": "H8yc96vqRXaU"
      },
      "execution_count": 15,
      "outputs": []
    },
    {
      "cell_type": "code",
      "source": [
        "#naive bayes sklearn\n",
        "from sklearn.naive_bayes import GaussianNB\n",
        "\n",
        "def naive_bayes(X_train, y_train, X_test, y_test):\n",
        "    model = GaussianNB()\n",
        "    model.fit(X_train, y_train)\n",
        "    return evaluate_model(model, X_test, y_test)\n"
      ],
      "metadata": {
        "id": "ntSvV_DNVSoF"
      },
      "execution_count": 26,
      "outputs": []
    },
    {
      "cell_type": "code",
      "source": [
        "def compareStrategies(df):\n",
        "    strategies = [\"drop\", \"replace\"]\n",
        "    for strategy in strategies:\n",
        "      print(f\"Missing Values Strategy: {strategy}\")\n",
        "      df_handled = handle_missing(df, strategy)\n",
        "\n",
        "      X_train, X_test, y_train, y_test = preprocess(df_handled, \"standard\")\n",
        "\n",
        "      accuracy, precision, recall = naive_bayes(X_train, y_train, X_test, y_test)\n",
        "\n",
        "      print(f\"Accuracy: {accuracy}\")\n",
        "      print(f\"Precision: {precision}\")\n",
        "      print(f\"Recall: {recall}\")\n",
        "      print()\n",
        "\n",
        "\n",
        "checkMissing(df)\n",
        "print()\n",
        "\n",
        "compareStrategies(df)"
      ],
      "metadata": {
        "colab": {
          "base_uri": "https://localhost:8080/"
        },
        "id": "zRIbygtRX2Z1",
        "outputId": "4f9e9a1c-071b-42cf-967c-f369b233e38c"
      },
      "execution_count": 27,
      "outputs": [
        {
          "output_type": "stream",
          "name": "stdout",
          "text": [
            "Missing values per column:\n",
            "Temperature    25\n",
            "Humidity       40\n",
            "Wind_Speed     32\n",
            "Cloud_Cover    33\n",
            "Pressure       27\n",
            "Rain            0\n",
            "dtype: int64\n",
            "\n",
            "Missing Values Strategy: drop\n",
            "Accuracy: 0.9617021276595744\n",
            "Precision: 1.0\n",
            "Recall: 0.7352941176470589\n",
            "\n",
            "Missing Values Strategy: replace\n",
            "Accuracy: 0.964\n",
            "Precision: 1.0\n",
            "Recall: 0.6785714285714286\n",
            "\n"
          ]
        }
      ]
    }
  ]
}